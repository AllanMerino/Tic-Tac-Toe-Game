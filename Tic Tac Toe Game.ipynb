{
 "cells": [
  {
   "cell_type": "code",
   "execution_count": null,
   "id": "0f2c89cb",
   "metadata": {},
   "outputs": [],
   "source": [
    "def do_you_want_to_play():\n",
    "    \n",
    "    choice = input('Welcome! Do you want to play a Tic Tac Toe game with me? Yes or No: ')\n",
    "    \n",
    "    while choice not in ['Yes', 'No']:\n",
    "        \n",
    "          choice = input(f'You did not answer the question correctly! Please choose Yes or No : ')\n",
    "            \n",
    "    \n",
    "    if choice == 'Yes':\n",
    "        return True\n",
    "    else:\n",
    "        return False\n",
    "        "
   ]
  },
  {
   "cell_type": "code",
   "execution_count": null,
   "id": "2656686e",
   "metadata": {},
   "outputs": [],
   "source": [
    "def choice_X_or_O():\n",
    "    toto = 'Hello'\n",
    "    allan = 0\n",
    "    while toto not in ['X', 'O']:\n",
    "          toto = input(f'Do you want to play with X or O? ')\n",
    "        \n",
    "    if toto == 'X':\n",
    "        allan = 0\n",
    "    else: \n",
    "        allan = 1\n",
    "            \n",
    "    return int(allan)\n",
    "    "
   ]
  },
  {
   "cell_type": "code",
   "execution_count": null,
   "id": "73eef887",
   "metadata": {},
   "outputs": [],
   "source": [
    "def printing_table(row1,row2,row3):\n",
    "    print(row1[0] + '|' + row1[1] + '|' + row1[2])\n",
    "    print('-----')\n",
    "    print(row2[0] + '|' + row2[1] + '|' + row2[2])\n",
    "    print('-----')\n",
    "    print(row3[0] + '|' + row3[1] + '|' + row3[2])\n"
   ]
  },
  {
   "cell_type": "code",
   "execution_count": null,
   "id": "11544816",
   "metadata": {},
   "outputs": [],
   "source": [
    "# technical function used only in the function check_table\n",
    "\n",
    "def sum_list(stringo):\n",
    "    toto = ''\n",
    "    for i in range(0, len(stringo)):\n",
    "        toto = toto + str(stringo[i])\n",
    "    return toto\n",
    "    "
   ]
  },
  {
   "cell_type": "code",
   "execution_count": null,
   "id": "29250d95",
   "metadata": {},
   "outputs": [],
   "source": [
    "def check_table(row1, row2, row3):\n",
    "    list_win = ['XXX','OOO']\n",
    "    #check lines\n",
    "    if sum_list(row1) in list_win:\n",
    "        return True\n",
    "    elif sum_list(row2) in list_win:\n",
    "        return True\n",
    "    elif sum_list(row3) in list_win:\n",
    "        return True\n",
    "    elif row1[0]+row2[1]+row3[2] in list_win:\n",
    "        return True\n",
    "    elif row1[2]+row2[1]+row3[0] in list_win:\n",
    "        return True\n",
    "    \n",
    "    for i in range(0, 3):\n",
    "        if row1[i] + row2[i] + row3[i] in list_win:\n",
    "            return True\n",
    "        \n",
    "    \n",
    "    else: \n",
    "        return False \n",
    "    "
   ]
  },
  {
   "cell_type": "code",
   "execution_count": null,
   "id": "647e03e2",
   "metadata": {},
   "outputs": [],
   "source": [
    "def add_X_or_O(row1,row2,row3,n,stringo):\n",
    "    row = row1 + row2 + row3\n",
    "    row[n-1] = stringo\n",
    "    row1 = row[0:3]\n",
    "    row2 = row[3:6]\n",
    "    row3 = row[6:9]\n",
    "    \n",
    "    return row1, row2, row3\n",
    "    \n",
    "    "
   ]
  },
  {
   "cell_type": "code",
   "execution_count": null,
   "id": "529ea8e5",
   "metadata": {},
   "outputs": [],
   "source": [
    "def pick_number():\n",
    "    \n",
    "    toto = 'Hello'\n",
    "    acceptable_range = False\n",
    "    \n",
    "    while toto.isdigit() == False or acceptable_range == False:\n",
    "        toto = input(f'Please chose a number between 1 and 9 : ')\n",
    "        \n",
    "        if toto.isdigit() == True:\n",
    "            if int(toto) not in list(range(1, 10)):\n",
    "                print('Sorry, the number is not between 1 and 9')\n",
    "                acceptable_range = False\n",
    "            else:\n",
    "                acceptable_range = True\n",
    "\n",
    "    return int(toto)"
   ]
  },
  {
   "cell_type": "code",
   "execution_count": null,
   "id": "e314a3ce",
   "metadata": {},
   "outputs": [],
   "source": [
    "from IPython.display import clear_output"
   ]
  },
  {
   "cell_type": "code",
   "execution_count": null,
   "id": "2ccce524",
   "metadata": {},
   "outputs": [],
   "source": [
    "def integer_X_and_O(n):\n",
    "    toto = 'Hello'\n",
    "    if n % 2 == 0:\n",
    "        toto = 'X'\n",
    "    else:\n",
    "        toto = 'O'\n",
    "    return(toto)"
   ]
  },
  {
   "cell_type": "code",
   "execution_count": null,
   "id": "1f4c3cd5",
   "metadata": {},
   "outputs": [],
   "source": [
    "def one_game():\n",
    "    \n",
    "    row1 = [' ', ' ', ' ']\n",
    "    row2 = [' ', ' ', ' ']\n",
    "    row3 = [' ', ' ', ' ']\n",
    "\n",
    "    game_over = False\n",
    "    i = choice_X_or_O()\n",
    "    stringo = integer_X_and_O(i)\n",
    "    listo_test = []\n",
    "    k = 1\n",
    "\n",
    "    while game_over == False:\n",
    "        clear_output()\n",
    "        printing_table(row1,row2,row3)\n",
    "    \n",
    "        toto = pick_number()\n",
    "    \n",
    "        while toto in listo_test:\n",
    "            print(f'The number has been chosen already. Please pick a new number!')\n",
    "            toto = pick_number()\n",
    "    \n",
    "        listo_test.append(toto)\n",
    "        row1 = add_X_or_O(row1,row2,row3,toto,stringo)[0]\n",
    "        row2 = add_X_or_O(row1,row2,row3,toto,stringo)[1]\n",
    "        row3 = add_X_or_O(row1,row2,row3,toto,stringo)[2]\n",
    "    \n",
    "        if check_table(row1, row2, row3) == True:\n",
    "            clear_output()\n",
    "            printing_table(row1,row2,row3)\n",
    "            if k % 2 == 1:\n",
    "                print(f'You won! Congratulations to Player {1}!')\n",
    "            else:\n",
    "                print(f'You won! Congratulations to Player {2}!')\n",
    "            game_over = True\n",
    "        elif ' ' not in row1 and ' ' not in row2 and ' ' not in row3:\n",
    "            printing_table(row1,row2,row3)\n",
    "            clear_output()\n",
    "            print(f'Draw! Nobody won')\n",
    "            game_over = True\n",
    "        else:\n",
    "            game_over = False\n",
    "            i = i + 1\n",
    "            k = k+1\n",
    "            stringo = integer_X_and_O(i)\n",
    "        \n"
   ]
  },
  {
   "cell_type": "code",
   "execution_count": null,
   "id": "b6487684",
   "metadata": {},
   "outputs": [],
   "source": [
    "def do_you_still_want_to_play():\n",
    "    choice = input('I hope you enjoyed. Do you still want to play? ')\n",
    "    \n",
    "    while choice not in ['Yes', 'No']:\n",
    "        \n",
    "          choice = input(f'You did not answer the question correctly! Please choose Yes or No : ')\n",
    "            \n",
    "    \n",
    "    if choice == 'Yes':\n",
    "        return True\n",
    "    else:\n",
    "        return False"
   ]
  },
  {
   "cell_type": "code",
   "execution_count": null,
   "id": "8697836f",
   "metadata": {},
   "outputs": [],
   "source": [
    "hello = do_you_want_to_play()\n",
    "\n",
    "if hello == True:\n",
    "    one_game()\n",
    "\n",
    "toto = do_you_still_want_to_play()\n",
    "\n",
    "while toto == True:\n",
    "    one_game()\n",
    "    toto = do_you_still_want_to_play()\n",
    "    \n",
    "print(f'Thanks for your time! I wish you a nice day')\n",
    "     \n",
    "\n"
   ]
  },
  {
   "cell_type": "markdown",
   "id": "6f70b67d",
   "metadata": {},
   "source": [
    "##### "
   ]
  }
 ],
 "metadata": {
  "kernelspec": {
   "display_name": "Python 3 (ipykernel)",
   "language": "python",
   "name": "python3"
  },
  "language_info": {
   "codemirror_mode": {
    "name": "ipython",
    "version": 3
   },
   "file_extension": ".py",
   "mimetype": "text/x-python",
   "name": "python",
   "nbconvert_exporter": "python",
   "pygments_lexer": "ipython3",
   "version": "3.9.13"
  }
 },
 "nbformat": 4,
 "nbformat_minor": 5
}
